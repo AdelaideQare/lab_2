{
 "cells": [
  {
   "cell_type": "markdown",
   "id": "1272cb27-fc59-470f-8e59-1a61a5f495ba",
   "metadata": {},
   "source": [
    "## **Лабораторная работа №2**\n",
    "*Вариант 18*"
   ]
  },
  {
   "cell_type": "markdown",
   "id": "94aa13b0-73fe-4ced-8f85-70007b76cf2e",
   "metadata": {},
   "source": [
    "## Задание 1. \n",
    "Создайте массив NumPy размером 3×3, содержащий числа от 1 до 9. Умножьте все элементы массива на 2, а затем замените все элементы больше 10 на 0. Выведите итоговый массив."
   ]
  },
  {
   "cell_type": "code",
   "execution_count": 156,
   "id": "9ea28bde-2527-4467-bead-ac4c0449e12a",
   "metadata": {},
   "outputs": [],
   "source": [
    "import numpy as np\n",
    "import math"
   ]
  },
  {
   "cell_type": "code",
   "execution_count": 158,
   "id": "3ff3c288-5ac0-4a2b-a140-68466aadca8e",
   "metadata": {},
   "outputs": [],
   "source": [
    "arr = np.matrix('1, 2, 3; 4, 5, 6; 7, 8, 9')"
   ]
  },
  {
   "cell_type": "code",
   "execution_count": 160,
   "id": "d5ba947f-993e-4b18-9dd2-09be7b739a54",
   "metadata": {},
   "outputs": [
    {
     "name": "stdout",
     "output_type": "stream",
     "text": [
      "[[ 2  4  6]\n",
      " [ 8 10 12]\n",
      " [14 16 18]]\n"
     ]
    }
   ],
   "source": [
    "arr2 = arr *2\n",
    "print(arr2)"
   ]
  },
  {
   "cell_type": "code",
   "execution_count": 162,
   "id": "abcbbd6a-ebf9-4a11-8601-941afc5f3046",
   "metadata": {},
   "outputs": [
    {
     "name": "stdout",
     "output_type": "stream",
     "text": [
      "[[ 2  4  6]\n",
      " [ 8 10  0]\n",
      " [ 0  0  0]]\n"
     ]
    }
   ],
   "source": [
    "arr2[arr2 > 10] = 0\n",
    "print(arr2)"
   ]
  },
  {
   "cell_type": "markdown",
   "id": "b841bab8-afea-4583-aa69-db8e448edbf9",
   "metadata": {},
   "source": [
    "## Задание 2. \n",
    "Создайте массив NumPy из 20 случайных целых чисел от 1 до 100. Найдите и выведите все элементы, которые делятся на 5 без остатка. Затем замените их на -1 и выведите обновленный массив"
   ]
  },
  {
   "cell_type": "code",
   "execution_count": 165,
   "id": "4e177e3b-6735-4bdb-9341-90898647732e",
   "metadata": {},
   "outputs": [
    {
     "name": "stdout",
     "output_type": "stream",
     "text": [
      "[43 58 17 95 57 61 33 14 48 81 93 63 68 88 32 12 91 47 82 52]\n"
     ]
    }
   ],
   "source": [
    "a = np.random.randint(1, 101,20)\n",
    "print(a)"
   ]
  },
  {
   "cell_type": "code",
   "execution_count": 167,
   "id": "211a648f-af22-4318-8510-6f841d669530",
   "metadata": {},
   "outputs": [
    {
     "name": "stdout",
     "output_type": "stream",
     "text": [
      "[95]\n"
     ]
    }
   ],
   "source": [
    "div_by_5 = a[a %5==0]\n",
    "print(div_by_5)"
   ]
  },
  {
   "cell_type": "code",
   "execution_count": 169,
   "id": "f37d0aaa-b11c-4dfd-9972-2ffbee9657fe",
   "metadata": {},
   "outputs": [
    {
     "name": "stdout",
     "output_type": "stream",
     "text": [
      "[43 58 17 -1 57 61 33 14 48 81 93 63 68 88 32 12 91 47 82 52]\n"
     ]
    }
   ],
   "source": [
    "a[a % 5 == 0] = -1\n",
    "print(a)"
   ]
  },
  {
   "cell_type": "markdown",
   "id": "0787268c-322f-4336-8537-5ae67a6935ea",
   "metadata": {},
   "source": [
    "## Задание 3. \n",
    "Создайте два массива NumPy размером 1×5, заполненные случайными числами от 0 до 50. Объедините эти массивы в один двумерный массив (по строкам). Разделите полученный массив на два массива, каждый из которых содержит 5 элементов. Выведите все промежуточные и итоговые результаты."
   ]
  },
  {
   "cell_type": "code",
   "execution_count": 172,
   "id": "b61f384c-4383-443f-bd2b-2b4d9857ba0f",
   "metadata": {},
   "outputs": [
    {
     "name": "stdout",
     "output_type": "stream",
     "text": [
      "a = [ 3  6 47 30 13]\n",
      "b = [29 16  2 39 41]\n",
      "ab = [[ 3  6 47 30 13]\n",
      " [29 16  2 39 41]]\n",
      "a1 = [ 3  6 47 30 13]\n",
      "b1 = [29 16  2 39 41]\n"
     ]
    }
   ],
   "source": [
    "a = np.random.randint(0, 51, 5)\n",
    "b = np.random.randint(0, 51, 5)\n",
    "print(f'a = {a}')\n",
    "print(f'b = {b}')\n",
    "ab = np.array([a, b])\n",
    "print(f'ab = {ab}')\n",
    "a1, b1 = ab\n",
    "print(f'a1 = {a1}')\n",
    "print(f'b1 = {b1}')"
   ]
  },
  {
   "cell_type": "markdown",
   "id": "796b4188-28a3-43b3-b53a-3e60e98f944d",
   "metadata": {},
   "source": [
    "## Задание 4. \n",
    "Создайте массив из 50 чисел, равномерно распределенных от -10 до 10. Вычислите сумму всех элементов, сумму положительных элементов и сумму отрицательных элементов. Выведите результаты"
   ]
  },
  {
   "cell_type": "code",
   "execution_count": 222,
   "id": "4a5eb892-adcd-4b15-a506-ba0314843924",
   "metadata": {},
   "outputs": [
    {
     "name": "stdout",
     "output_type": "stream",
     "text": [
      "[-10.     -9.592  -9.184  -8.776  -8.367  -7.959  -7.551  -7.143  -6.735\n",
      "  -6.327  -5.918  -5.51   -5.102  -4.694  -4.286  -3.878  -3.469  -3.061\n",
      "  -2.653  -2.245  -1.837  -1.429  -1.02   -0.612  -0.204   0.204   0.612\n",
      "   1.02    1.429   1.837   2.245   2.653   3.061   3.469   3.878   4.286\n",
      "   4.694   5.102   5.51    5.918   6.327   6.735   7.143   7.551   7.959\n",
      "   8.367   8.776   9.184   9.592  10.   ]\n",
      "Сумма всех элементов = 0.0\n",
      "Сумма положительных элементов = 127.552\n",
      "Сумма отрицательных элементов = -127.552\n"
     ]
    }
   ],
   "source": [
    "a = np.round(np.linspace(-10,10,50),3)\n",
    "total_sum = round(np.sum(a),3)\n",
    "pos_sum = round(np.sum(a[a > 0]),3)\n",
    "neg_sum = round(np.sum(a[a < 0]),3)\n",
    "print(a)\n",
    "print(f\"Сумма всех элементов = {total_sum}\")\n",
    "print(f\"Сумма положительных элементов = {pos_sum}\")\n",
    "print(f\"Сумма отрицательных элементов = {neg_sum}\")"
   ]
  },
  {
   "cell_type": "markdown",
   "id": "2fb770cd-6480-44e3-8fe9-309e72725f1e",
   "metadata": {},
   "source": [
    "## Задание 5. \n",
    "Создайте: \n",
    "- Единичную матрицу размером 4×4. \n",
    "- Диагональную матрицу размером 4×4 с диагональными элементами [5,10,15,20] (не использовать циклы).\n",
    "\n",
    "Найдите сумму всех элементов каждой из этих матриц и сравните результаты"
   ]
  },
  {
   "cell_type": "code",
   "execution_count": 252,
   "id": "db455512-1f77-4b2a-9ebf-82cd1cea4115",
   "metadata": {},
   "outputs": [
    {
     "name": "stdout",
     "output_type": "stream",
     "text": [
      "[[1. 0. 0. 0.]\n",
      " [0. 1. 0. 0.]\n",
      " [0. 0. 1. 0.]\n",
      " [0. 0. 0. 1.]]\n",
      "Сумма единичной матрицы = 4.0\n",
      "[[ 5  0  0  0]\n",
      " [ 0 10  0  0]\n",
      " [ 0  0 15  0]\n",
      " [ 0  0  0 20]]\n",
      "Сумма единичной матрицы = 50\n",
      "Сумма диагональной матрицы больше\n"
     ]
    }
   ],
   "source": [
    "m = np.eye(4)\n",
    "d = np.matrix('5 0 0 0; 0 10 0 0; 0 0 15 0; 0 0 0 20')\n",
    "m_sum = np.sum(m)\n",
    "d_sum = np.sum(d)\n",
    "print(m)\n",
    "print(f'Сумма единичной матрицы = {m_sum}')\n",
    "print(d)\n",
    "print(f'Сумма единичной матрицы = {d_sum}')\n",
    "if m_sum > d_sum:\n",
    "    print(\"Сумма единичной матрицы больше\")\n",
    "elif d_sum > m_sum:\n",
    "    print(\"Сумма диагональной матрицы больше\")\n",
    "else:\n",
    "    print(\"Матрицы равны\")"
   ]
  },
  {
   "cell_type": "markdown",
   "id": "f656750d-d42d-46c9-8c14-9db0cba47647",
   "metadata": {},
   "source": [
    "## Задание 6. \n",
    "Создайте две квадратные матрицы NumPy размером 3×3, заполненные случайными целыми числами от 1 до 20. \n",
    "Вычислите и выведите: \n",
    "- Их сумму \n",
    "- Их разность\n",
    "- Их поэлементное произведение"
   ]
  },
  {
   "cell_type": "code",
   "execution_count": 280,
   "id": "f77a3679-1c66-4a43-9793-514b3930dcef",
   "metadata": {},
   "outputs": [
    {
     "name": "stdout",
     "output_type": "stream",
     "text": [
      "[[16 11  6]\n",
      " [13 16  8]\n",
      " [ 7 14  9]]\n",
      "[[16 11  6]\n",
      " [13 16  8]\n",
      " [ 7 14  9]]\n",
      "Сумма двух матриц = \n",
      " [[21 27 16]\n",
      " [27 23 26]\n",
      " [12 24 18]]\n",
      "Разность двух матриц = \n",
      " [[ 11  -5  -4]\n",
      " [ -1   9 -10]\n",
      " [  2   4   0]]\n",
      "Поэлементное произведение двух матриц = \n",
      " [[ 80 176  60]\n",
      " [182 112 144]\n",
      " [ 35 140  81]]\n"
     ]
    }
   ],
   "source": [
    "m1 = np.random.randint(1,21,(3,3))\n",
    "m2 = np.random.randint(1,21, (3,3))\n",
    "summ = m1 + m2\n",
    "diff = m1 - m2\n",
    "mult = m1 * m2\n",
    "print(m1)\n",
    "print(m1)\n",
    "print(f'Сумма двух матриц = \\n {summ}')\n",
    "print(f'Разность двух матриц = \\n {diff}')\n",
    "print(f'Поэлементное произведение двух матриц = \\n {mult}')"
   ]
  },
  {
   "cell_type": "markdown",
   "id": "c865773a-2fa6-4f93-ba2c-81cdabe72f99",
   "metadata": {},
   "source": [
    "## Задание 7. \n",
    "Создайте две матрицы NumPy: \n",
    "- Первую размером 2×3, заполненную случайными числами от 1 до 10.\n",
    "- Вторую размером 3×2, заполненную случайными числами от 1 до 10.\n",
    "\n",
    "Выполните матричное умножение ( @ или np.dot ) и выведите результат."
   ]
  },
  {
   "cell_type": "code",
   "execution_count": 283,
   "id": "02973ce6-c3fb-409a-a33d-b670c8fec14c",
   "metadata": {},
   "outputs": [
    {
     "name": "stdout",
     "output_type": "stream",
     "text": [
      "[[ 9  2  3]\n",
      " [10  9  4]]\n",
      "[[8 5]\n",
      " [7 7]\n",
      " [4 1]]\n",
      "Матричное умножение матриц = \n",
      " [[ 98  62]\n",
      " [159 117]]\n"
     ]
    }
   ],
   "source": [
    "ma = np.random.randint(1, 11, (2, 3))\n",
    "mb = np.random.randint(1, 11, (3, 2))\n",
    "mult = ma @ mb\n",
    "print (ma)\n",
    "print(mb)\n",
    "print(f'Матричное умножение матриц = \\n {mult}')"
   ]
  },
  {
   "cell_type": "markdown",
   "id": "2e9501a3-40fa-401f-84ce-febefbd34722",
   "metadata": {},
   "source": [
    "## Задание 8. \n",
    "Создайте случайную квадратную матрицу 3×3. Найдите и выведите: \n",
    "- определитель этой матрицы; \n",
    "- обратную матрицу (если существует, иначе выведите сообщение, что матрица вырождена).\n",
    "\n",
    "Используйте функции np.linalg.det и np.linalg.inv"
   ]
  },
  {
   "cell_type": "code",
   "execution_count": 311,
   "id": "60d87713-08cb-4b55-b52c-5a4e80ee2bad",
   "metadata": {},
   "outputs": [
    {
     "name": "stdout",
     "output_type": "stream",
     "text": [
      "[[-1 -1 -5]\n",
      " [-3 -4  2]\n",
      " [-2  4  3]]\n",
      "Определитель матрицы = 115.00000000000001\n",
      "Обратная матрица = \n",
      " [[-0.17391304 -0.14782609 -0.19130435]\n",
      " [ 0.04347826 -0.11304348  0.14782609]\n",
      " [-0.17391304  0.05217391  0.00869565]]\n"
     ]
    }
   ],
   "source": [
    "mx = np.random.randint(-5,5, (3,3))\n",
    "det = np.linalg.det(mx)\n",
    "print(mx)\n",
    "print(f'Определитель матрицы = {det}')\n",
    "if det == 0:\n",
    "    print(\"Матрица вырожденная, обратной матрицы не существует\")\n",
    "else:\n",
    "    inv = np.linalg.inv(mx)\n",
    "    print(f\"Обратная матрица = \\n {inv}\")"
   ]
  },
  {
   "cell_type": "markdown",
   "id": "fc393c57-3fdd-4a72-8d9e-9a7bafa4c614",
   "metadata": {},
   "source": [
    "## Задание 9. \n",
    "Создаем матрицу NumPy размером 4×4, содержащую случайные целые числа от 1 до 50. Выводим:\n",
    "- Исходную матрицу;\n",
    "- Транспонированную матрицу;\n",
    "- След матрицы(сумму элементов на главной диагонали)\n",
    "\n",
    "Используем np.trace для нахождения следа. "
   ]
  },
  {
   "cell_type": "code",
   "execution_count": 316,
   "id": "6c180b28-55e3-48d9-9bf1-5ff0aab6351c",
   "metadata": {},
   "outputs": [
    {
     "name": "stdout",
     "output_type": "stream",
     "text": [
      "Исходная матрица: \n",
      " [[32  8 15 22]\n",
      " [10 11 18 15]\n",
      " [32 24 32 12]\n",
      " [45  9 45 24]]\n",
      "Транспонированная матрица: \n",
      " [[32 10 32 45]\n",
      " [ 8 11 24  9]\n",
      " [15 18 32 45]\n",
      " [22 15 12 24]]\n",
      "След матрицы: \n",
      " 99\n"
     ]
    }
   ],
   "source": [
    "mx = np.random.randint(1,51, (4,4))\n",
    "tr_mx = np.transpose(mx)\n",
    "trace = np.trace(mx)\n",
    "print(f'Исходная матрица: \\n {mx}')\n",
    "print(f'Транспонированная матрица: \\n {tr_mx}')\n",
    "print(f'След матрицы: \\n {trace}')"
   ]
  },
  {
   "cell_type": "markdown",
   "id": "83febaba-7acc-4976-a510-fb3ed4a8cb55",
   "metadata": {},
   "source": [
    "## Задание 10.\n",
    "Решить систему линейных уравнений вида:\n",
    "\n",
    "2x + 3y - z = 5\n",
    "\n",
    "4х-у+2z=6\n",
    "\n",
    "-3x+5y+4z=-2\n",
    "\n",
    "Используйте матричное представление Ax = B , где A – матрица коэффициентов,x – вектор неизвестных, B – вектор правой части. Решите систему с помощью np.linalg.solve и выведите результат."
   ]
  },
  {
   "cell_type": "code",
   "execution_count": 337,
   "id": "dc312adf-0b66-4136-9908-cce2a31d373e",
   "metadata": {},
   "outputs": [
    {
     "name": "stdout",
     "output_type": "stream",
     "text": [
      "[[ 2  3 -1]\n",
      " [ 4 -1  2]\n",
      " [-3  5  4]]\n",
      "[[ 5]\n",
      " [ 6]\n",
      " [-2]]\n",
      "Решение: \n",
      "x = [1.64], y = [0.58], z = [0.01]\n"
     ]
    }
   ],
   "source": [
    "a = np.matrix('2,3,-1; 4,-1,2; -3,5,4')\n",
    "b = np.matrix('5;6;-2')\n",
    "x = np.round(np.linalg.solve(a,b),2)\n",
    "print(a)\n",
    "print(b)\n",
    "print(\"Решение: \")\n",
    "print(f\"x = {x[0]}, y = {x[1]}, z = {x[2]}\")"
   ]
  },
  {
   "attachments": {},
   "cell_type": "markdown",
   "id": "6cea6eab-3d02-42b6-9814-a0a4025a38f3",
   "metadata": {},
   "source": [
    "## Задание 11. Индивидуальное задание\n",
    "Решить индивидуальное задание согласно варианту 18. Решили полученную систему уравнений с использованием библиотеки NumPy. Для решения системы использовали метод Крамера и матричный метод. Сравнили полученные результаты, с результатами, полученными с помощью np.linalg.solve.\n",
    "\n",
    "Расчет пропорций в строительстве. Для приготовления бетона используются цемент, песок и гравий. В нормальном соотношении цемент должен составлять 1/4 смеси, песок — 1/3, а остальное — гравий. Сколько килограммов каждого компонента нужно взять, чтобы получить 1200 кг бетона?"
   ]
  },
  {
   "cell_type": "markdown",
   "id": "c76822ed-1593-4ea6-ad9a-62efe4daecc0",
   "metadata": {},
   "source": [
    "Представим смеси компонентов в виде системы уравнений. Обозначим цемент через - x, песок - y, гравий - z\n",
    "\n",
    "\\begin{cases} \n",
    "x + y + z = 1200 \\\\\n",
    "x =  \\frac{1}{4} \\cdot (x + y + z) \\\\ \n",
    "y = \\frac{1}{3} \\cdot (x + y + z)  \\\\ \n",
    "\\end{cases}\n",
    "\n",
    "Преобразуем: \\\n",
    "3x - y - z = 0 \\\n",
    "-x + 2y - z = 0 \\\n",
    " x + y + z = 1200 \n",
    " \n"
   ]
  },
  {
   "cell_type": "code",
   "execution_count": 404,
   "id": "6b9cd332-d3d0-472b-993d-bc5a46e03a47",
   "metadata": {},
   "outputs": [
    {
     "name": "stdout",
     "output_type": "stream",
     "text": [
      "Метод Крамера:\n",
      "x = 300.0, y = 400.0 z = 500.0\n",
      "[300. 400. 500.]\n",
      "Матричный метод:\n",
      "x = 300.0, y = 400.0 z = 500.0\n",
      "Решение с помощью np.linalg.solve\n",
      "x = 300.0, y = 400.0 z = 500.0\n"
     ]
    }
   ],
   "source": [
    "import numpy as np\n",
    "a = np.array([[3, -1, -1],[-1,2,-1],[1,1,1]])\n",
    "b = np.array([0,0,1200])\n",
    "\n",
    "#Решаем методом Крамера\n",
    "det = np.linalg.det(a)\n",
    "A_x = a.copy()\n",
    "A_x[:, 0] = b \n",
    "det_x = np.linalg.det(A_x)\n",
    "A_y = a.copy()\n",
    "A_y[:, 1] = b\n",
    "det_y = np.linalg.det(A_y)\n",
    "A_z = a.copy()\n",
    "A_z[:, 2] = b\n",
    "det_z = np.linalg.det(A_z)\n",
    "x = np.round(det_x / det)\n",
    "y = np.round(det_y / det)\n",
    "z = np.round(det_z / det)\n",
    "print(\"Метод Крамера:\")\n",
    "print(f'x = {x}, y = {y} z = {z}')\n",
    "\n",
    "#Решаем матричным методом\n",
    "inv = np.linalg.inv(a) \n",
    "print(x1)\n",
    "print(\"Матричный метод:\")\n",
    "print(f'x = {x1[0]}, y = {x1[1]} z = {x1[2]}')\n",
    "\n",
    "#Решаем с помощью np.linalg.solve\n",
    "x3 = np.round(np.linalg.solve(a, b))\n",
    "print(\"Решение с помощью np.linalg.solve\")\n",
    "print(f'x = {x3[0]}, y = {x3[1]} z = {x3[2]}')\n"
   ]
  },
  {
   "cell_type": "code",
   "execution_count": null,
   "id": "c1749c16-bd06-484b-ac20-02fceb3e1a80",
   "metadata": {},
   "outputs": [],
   "source": []
  }
 ],
 "metadata": {
  "kernelspec": {
   "display_name": "Python [conda env:base] *",
   "language": "python",
   "name": "conda-base-py"
  },
  "language_info": {
   "codemirror_mode": {
    "name": "ipython",
    "version": 3
   },
   "file_extension": ".py",
   "mimetype": "text/x-python",
   "name": "python",
   "nbconvert_exporter": "python",
   "pygments_lexer": "ipython3",
   "version": "3.12.7"
  }
 },
 "nbformat": 4,
 "nbformat_minor": 5
}
