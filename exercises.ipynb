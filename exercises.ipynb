{
 "cells": [
  {
   "cell_type": "markdown",
   "id": "e922b844-d334-4bdd-8453-34ee208ae72b",
   "metadata": {
    "jp-MarkdownHeadingCollapsed": true
   },
   "source": [
    "## **Лабораторная работа №2**\n",
    "*Вариант 18*"
   ]
  },
  {
   "cell_type": "markdown",
   "id": "53143f4c-b792-4bdd-bd3f-9efd0ff9b288",
   "metadata": {},
   "source": [
    "## Пример 1. \n",
    "Векторизация и оптимизация кода"
   ]
  },
  {
   "cell_type": "code",
   "execution_count": 3,
   "id": "b81e782e-3b37-4bb3-904c-8146c63ac2a8",
   "metadata": {},
   "outputs": [],
   "source": [
    "import numpy as np\n",
    "a = np.array([1, 2, 3])\n",
    "b = np.array([4, 5, 6])\n",
    "result = a + b"
   ]
  },
  {
   "cell_type": "code",
   "execution_count": 5,
   "id": "4075cfbc-a6b0-43c9-a202-0249e55f3568",
   "metadata": {},
   "outputs": [
    {
     "name": "stdout",
     "output_type": "stream",
     "text": [
      "[5 7 9]\n"
     ]
    }
   ],
   "source": [
    "print(result)"
   ]
  },
  {
   "cell_type": "markdown",
   "id": "7af4835d-c9b9-467f-80d6-ab1122d10b67",
   "metadata": {},
   "source": [
    "## Пример 2. \n",
    "Матричные операции"
   ]
  },
  {
   "cell_type": "code",
   "execution_count": 8,
   "id": "4c9d70ce-dcf9-4e0e-b321-e98b782ced3f",
   "metadata": {},
   "outputs": [],
   "source": [
    "import numpy as np\n",
    "matrix1 = np.array([[1, 2], [3, 4]])\n",
    "matrix2 = np.array([[5, 6], [7, 8]])\n",
    "result = np.dot(matrix1, matrix2)"
   ]
  },
  {
   "cell_type": "code",
   "execution_count": 10,
   "id": "c975e821-5a8a-4482-b2b4-aa987831d827",
   "metadata": {},
   "outputs": [
    {
     "name": "stdout",
     "output_type": "stream",
     "text": [
      "[[19 22]\n",
      " [43 50]]\n"
     ]
    }
   ],
   "source": [
    "print(result)"
   ]
  },
  {
   "cell_type": "markdown",
   "id": "c2da00c8-e46e-486a-a2d5-803ee7a128cf",
   "metadata": {},
   "source": [
    "## Пример 3. \n",
    "Статистические функции"
   ]
  },
  {
   "cell_type": "code",
   "execution_count": 13,
   "id": "d7ef5d91-fafc-4f84-9322-76b981ef33d7",
   "metadata": {},
   "outputs": [
    {
     "name": "stdout",
     "output_type": "stream",
     "text": [
      "1.4142135623730951\n"
     ]
    }
   ],
   "source": [
    "data = np.array([1,2,3,4,5])\n",
    "mean = np.mean(data) \n",
    "std_dev = np.std(data) \n",
    "print (std_dev)"
   ]
  },
  {
   "cell_type": "markdown",
   "id": "8d820960-7945-4363-ac67-51751d459902",
   "metadata": {},
   "source": [
    "## Пример 4. \n",
    "Поддержка векторизации"
   ]
  },
  {
   "cell_type": "code",
   "execution_count": 16,
   "id": "cbbdf262-54f6-4626-8d9f-2149212e945d",
   "metadata": {},
   "outputs": [
    {
     "name": "stdout",
     "output_type": "stream",
     "text": [
      "[2 4 6 8]\n"
     ]
    }
   ],
   "source": [
    "import numpy as np\n",
    "arr = np.array([1, 2, 3, 4])\n",
    "result = arr * 2\n",
    "print(result) "
   ]
  },
  {
   "cell_type": "markdown",
   "id": "6af3d363-2399-4025-a139-6d9babd18a73",
   "metadata": {},
   "source": [
    "## Пример 5.\n",
    "Доступ к элементам массива"
   ]
  },
  {
   "cell_type": "markdown",
   "id": "163f6712-e88d-44f3-afe8-80054857dd06",
   "metadata": {},
   "source": [
    "Для начала импортируем библиотеку numpy."
   ]
  },
  {
   "cell_type": "code",
   "execution_count": 181,
   "id": "e3fd3938-4d9f-4beb-84f8-f9753501d2dd",
   "metadata": {},
   "outputs": [
    {
     "name": "stdout",
     "output_type": "stream",
     "text": [
      "[[1 2 3 4]\n",
      " [5 6 7 8]\n",
      " [9 1 5 7]]\n"
     ]
    }
   ],
   "source": [
    "import numpy as np\n",
    "m = np.matrix('1 2 3 4; 5 6 7 8; 9 1 5 7')\n",
    "print(m)"
   ]
  },
  {
   "cell_type": "code",
   "execution_count": 367,
   "id": "638021c2-c640-47dd-a114-d87d5817d44d",
   "metadata": {},
   "outputs": [
    {
     "data": {
      "text/plain": [
       "5"
      ]
     },
     "execution_count": 367,
     "metadata": {},
     "output_type": "execute_result"
    }
   ],
   "source": [
    "m[1, 0]"
   ]
  },
  {
   "cell_type": "code",
   "execution_count": 369,
   "id": "eb7657a7-fead-4279-87ec-8cc1a4e31826",
   "metadata": {},
   "outputs": [
    {
     "data": {
      "text/plain": [
       "matrix([[ 5,  6,  7, 25]])"
      ]
     },
     "execution_count": 369,
     "metadata": {},
     "output_type": "execute_result"
    }
   ],
   "source": [
    "#Получим вторую строку массива\n",
    "m[1, :]"
   ]
  },
  {
   "cell_type": "markdown",
   "id": "1607a723-06b3-4e0f-a6bd-dfabc2778366",
   "metadata": {},
   "source": [
    "Извлечем третий столбец массива"
   ]
  },
  {
   "cell_type": "code",
   "execution_count": 188,
   "id": "5c4be02e-06c2-4ced-97a5-2653769083b2",
   "metadata": {},
   "outputs": [
    {
     "data": {
      "text/plain": [
       "matrix([[3],\n",
       "        [7],\n",
       "        [5]])"
      ]
     },
     "execution_count": 188,
     "metadata": {},
     "output_type": "execute_result"
    }
   ],
   "source": [
    "m[:, 2]"
   ]
  },
  {
   "cell_type": "markdown",
   "id": "62a485c7-ef79-4e40-a207-711b17247a46",
   "metadata": {},
   "source": [
    "Извлечем все элементы из второй строки, начиная с третьего"
   ]
  },
  {
   "cell_type": "code",
   "execution_count": 190,
   "id": "96864ecb-4101-4809-a468-1c3ad7a023f8",
   "metadata": {},
   "outputs": [
    {
     "data": {
      "text/plain": [
       "matrix([[7, 8]])"
      ]
     },
     "execution_count": 190,
     "metadata": {},
     "output_type": "execute_result"
    }
   ],
   "source": [
    "m[1, 2:]"
   ]
  },
  {
   "cell_type": "markdown",
   "id": "c8c94a8a-7477-4476-b7ab-c4ca7b7be8c3",
   "metadata": {},
   "source": [
    "Извлечем из заданного подмассива массив"
   ]
  },
  {
   "cell_type": "code",
   "execution_count": 192,
   "id": "1e3e528b-2052-485d-997f-2aa36afdf851",
   "metadata": {},
   "outputs": [
    {
     "data": {
      "text/plain": [
       "matrix([[2, 3],\n",
       "        [6, 7]])"
      ]
     },
     "execution_count": 192,
     "metadata": {},
     "output_type": "execute_result"
    }
   ],
   "source": [
    "m[0:2, 1:3]"
   ]
  },
  {
   "cell_type": "markdown",
   "id": "f0db7745-b4d9-42df-90cf-b38a0e889a18",
   "metadata": {},
   "source": [
    "Извлечем произвольный набор столбцов в виде списка"
   ]
  },
  {
   "cell_type": "code",
   "execution_count": 194,
   "id": "c02c433c-c6c9-4be9-aa9c-b44e0fce9672",
   "metadata": {},
   "outputs": [
    {
     "data": {
      "text/plain": [
       "matrix([[1, 2, 4],\n",
       "        [5, 6, 8],\n",
       "        [9, 1, 7]])"
      ]
     },
     "execution_count": 194,
     "metadata": {},
     "output_type": "execute_result"
    }
   ],
   "source": [
    "cols = [0,1,3]\n",
    "m[:, cols]"
   ]
  },
  {
   "cell_type": "markdown",
   "id": "678a21b5-fd6f-4387-889e-bc1dd0e85e4a",
   "metadata": {},
   "source": [
    "## Пример 6\n",
    "Расчет статистик по данным в массиве"
   ]
  },
  {
   "cell_type": "markdown",
   "id": "715f58b8-a08a-45a9-8b16-23d7eec7326f",
   "metadata": {},
   "source": [
    "Создадим матрицу"
   ]
  },
  {
   "cell_type": "code",
   "execution_count": 196,
   "id": "5bc06095-5d1f-47fc-b4fd-0725d2dacd66",
   "metadata": {},
   "outputs": [
    {
     "name": "stdout",
     "output_type": "stream",
     "text": [
      "[[1 2 3 4]\n",
      " [5 6 7 8]\n",
      " [9 1 5 7]]\n"
     ]
    }
   ],
   "source": [
    "m = np.matrix(\"1 2 3 4; 5 6 7 8; 9 1 5 7\")\n",
    "print(m)"
   ]
  },
  {
   "cell_type": "markdown",
   "id": "119d9591-5f0e-45ee-9100-ab4d93042001",
   "metadata": {},
   "source": [
    "Будет создан объект типа matrix"
   ]
  },
  {
   "cell_type": "code",
   "execution_count": 198,
   "id": "92871b41-ef9a-416b-bf8c-a08c31a6b884",
   "metadata": {},
   "outputs": [
    {
     "data": {
      "text/plain": [
       "numpy.matrix"
      ]
     },
     "execution_count": 198,
     "metadata": {},
     "output_type": "execute_result"
    }
   ],
   "source": [
    "type(m) "
   ]
  },
  {
   "cell_type": "markdown",
   "id": "f9342747-4846-487a-8252-9e4264b4cf3f",
   "metadata": {},
   "source": [
    "Matriix можно преваритить в ndarray"
   ]
  },
  {
   "cell_type": "code",
   "execution_count": 202,
   "id": "19b09746-26aa-402c-b161-5036532ee12f",
   "metadata": {},
   "outputs": [
    {
     "data": {
      "text/plain": [
       "numpy.ndarray"
      ]
     },
     "execution_count": 202,
     "metadata": {},
     "output_type": "execute_result"
    }
   ],
   "source": [
    "m = np.array(m)\n",
    "type(m)"
   ]
  },
  {
   "cell_type": "markdown",
   "id": "da9466b8-ffe0-4676-a637-9038b1d77e24",
   "metadata": {},
   "source": [
    "Определяем размерность массива Numpy"
   ]
  },
  {
   "cell_type": "code",
   "execution_count": 204,
   "id": "c85f0b74-de84-4e8e-b617-511dfac61a05",
   "metadata": {},
   "outputs": [
    {
     "data": {
      "text/plain": [
       "(3, 4)"
      ]
     },
     "execution_count": 204,
     "metadata": {},
     "output_type": "execute_result"
    }
   ],
   "source": [
    "m.shape"
   ]
  },
  {
   "cell_type": "markdown",
   "id": "0fb9d196-385e-44ee-a3cc-02701656d37c",
   "metadata": {},
   "source": [
    "Вызовем функцию вычисления статистики (максимальный элемент) без\n",
    "аргументов."
   ]
  },
  {
   "cell_type": "code",
   "execution_count": 206,
   "id": "6c4c90f6-dba8-4811-9eba-9a5262eaac94",
   "metadata": {},
   "outputs": [
    {
     "data": {
      "text/plain": [
       "9"
      ]
     },
     "execution_count": 206,
     "metadata": {},
     "output_type": "execute_result"
    }
   ],
   "source": [
    "m.max()"
   ]
  },
  {
   "cell_type": "markdown",
   "id": "21b68665-308a-4024-9ecc-77e0f37d7ded",
   "metadata": {},
   "source": [
    "Определим максимальный элемент в каждой строке"
   ]
  },
  {
   "cell_type": "code",
   "execution_count": 208,
   "id": "5913b7c7-37b5-4ed6-9d7c-f9a281b61e81",
   "metadata": {},
   "outputs": [
    {
     "data": {
      "text/plain": [
       "array([4, 8, 9])"
      ]
     },
     "execution_count": 208,
     "metadata": {},
     "output_type": "execute_result"
    }
   ],
   "source": [
    "m.max(axis=1)"
   ]
  },
  {
   "cell_type": "markdown",
   "id": "01863854-dcbe-4b99-8665-f06d14f7f0d1",
   "metadata": {},
   "source": [
    "Определим максимальный элемент в каждом столбце"
   ]
  },
  {
   "cell_type": "code",
   "execution_count": 210,
   "id": "e46ffe58-1c62-489f-8006-7b8d01de288f",
   "metadata": {},
   "outputs": [
    {
     "data": {
      "text/plain": [
       "array([9, 6, 7, 8])"
      ]
     },
     "execution_count": 210,
     "metadata": {},
     "output_type": "execute_result"
    }
   ],
   "source": [
    "m.max(axis=0)"
   ]
  },
  {
   "cell_type": "markdown",
   "id": "0b01f0b7-bcec-4520-8610-98cca01d74b8",
   "metadata": {},
   "source": [
    "Вычислим среднее значение элементов и сумму всех элементов"
   ]
  },
  {
   "cell_type": "code",
   "execution_count": 213,
   "id": "c393da6e-e638-4cc7-918c-ea3b76b0a788",
   "metadata": {},
   "outputs": [
    {
     "data": {
      "text/plain": [
       "4.833333333333333"
      ]
     },
     "execution_count": 213,
     "metadata": {},
     "output_type": "execute_result"
    }
   ],
   "source": [
    "m.mean()"
   ]
  },
  {
   "cell_type": "code",
   "execution_count": 215,
   "id": "9b9ac07b-6296-49f5-aef1-24828b62694e",
   "metadata": {},
   "outputs": [
    {
     "data": {
      "text/plain": [
       "58"
      ]
     },
     "execution_count": 215,
     "metadata": {},
     "output_type": "execute_result"
    }
   ],
   "source": [
    "m.sum()"
   ]
  },
  {
   "cell_type": "markdown",
   "id": "1d2e3302-81e3-47ef-ae18-19c6063d60d3",
   "metadata": {},
   "source": [
    "## Пример 7\n",
    "Использование boolean массива для доступа к ndarray"
   ]
  },
  {
   "cell_type": "markdown",
   "id": "32b15e75-b958-4e76-b0db-65ee6a9bb4c6",
   "metadata": {},
   "source": [
    "Создадим несколько массивов, с которыми мы будем работать"
   ]
  },
  {
   "cell_type": "code",
   "execution_count": 69,
   "id": "7d71d9c7-3341-4798-b867-6caa77a7edf4",
   "metadata": {},
   "outputs": [],
   "source": [
    "nums = np.array([1, 2, 3, 4, 5, 6, 7, 8, 9, 10]) \n",
    "letters = np.array(['a', 'b', 'c', 'd', 'a', 'e', 'b']) "
   ]
  },
  {
   "cell_type": "markdown",
   "id": "b6b6f180-03c1-4481-a22b-5ed2bfd09993",
   "metadata": {},
   "source": [
    "Построим на базе созданных нами в самом начале ndarray массивов массивы с элементами типа boolean."
   ]
  },
  {
   "cell_type": "code",
   "execution_count": 217,
   "id": "a3fdc9c5-3da2-4d3e-adb0-cf9ee38297c5",
   "metadata": {},
   "outputs": [
    {
     "data": {
      "text/plain": [
       "array([False, False, False, False, False, False, False, False, False,\n",
       "       False])"
      ]
     },
     "execution_count": 217,
     "metadata": {},
     "output_type": "execute_result"
    }
   ],
   "source": [
    "less_then_5 = nums < 5 \n",
    "less_then_5 "
   ]
  },
  {
   "cell_type": "markdown",
   "id": "df9bbc6d-e072-4eaf-b9fe-f3d17b0eb479",
   "metadata": {},
   "source": [
    "Построим массив, в котором значение True будут иметь элементы, чей индекс совпадает с индексами, на которых стоит символ ‘a’ в массиве letters."
   ]
  },
  {
   "cell_type": "code",
   "execution_count": 219,
   "id": "dbb98393-4f32-42ec-906a-c0c0596a54c9",
   "metadata": {},
   "outputs": [
    {
     "data": {
      "text/plain": [
       "array([ True, False, False, False,  True, False, False])"
      ]
     },
     "execution_count": 219,
     "metadata": {},
     "output_type": "execute_result"
    }
   ],
   "source": [
    "pos_a = letters == 'a' \n",
    "pos_a"
   ]
  },
  {
   "cell_type": "markdown",
   "id": "2f1488de-42d4-430b-8b3a-594c8f1138b2",
   "metadata": {},
   "source": [
    "Добавим матрицу"
   ]
  },
  {
   "cell_type": "code",
   "execution_count": 221,
   "id": "a9c753fa-065c-4a1e-b3d9-072555d8c693",
   "metadata": {},
   "outputs": [
    {
     "name": "stdout",
     "output_type": "stream",
     "text": [
      "[[1 2 3 4]\n",
      " [5 6 7 8]\n",
      " [9 1 5 7]]\n"
     ]
    }
   ],
   "source": [
    "m = np.matrix('1 2 3 4; 5 6 7 8; 9 1 5 7') \n",
    "print(m)"
   ]
  },
  {
   "cell_type": "markdown",
   "id": "23cf73d4-35b0-42dd-b219-66871a1189bc",
   "metadata": {},
   "source": [
    "Построим логическую матрицу с условием: m>=3 and m<=7, используя функцию\n",
    "logical_and()"
   ]
  },
  {
   "cell_type": "code",
   "execution_count": 224,
   "id": "93293c66-78aa-4103-b9cd-e1cd09cc4453",
   "metadata": {},
   "outputs": [
    {
     "data": {
      "text/plain": [
       "matrix([[False, False,  True,  True],\n",
       "        [ True,  True,  True, False],\n",
       "        [False, False,  True,  True]])"
      ]
     },
     "execution_count": 224,
     "metadata": {},
     "output_type": "execute_result"
    }
   ],
   "source": [
    "mod_m = np.logical_and(m>=3, m<=7) \n",
    "mod_m"
   ]
  },
  {
   "cell_type": "code",
   "execution_count": 226,
   "id": "c56545e9-f69c-4dae-9a97-9d671708c55c",
   "metadata": {},
   "outputs": [
    {
     "data": {
      "text/plain": [
       "matrix([[3, 4, 5, 6, 7, 5, 7]])"
      ]
     },
     "execution_count": 226,
     "metadata": {},
     "output_type": "execute_result"
    }
   ],
   "source": [
    "m[mod_m]"
   ]
  },
  {
   "cell_type": "markdown",
   "id": "245894c9-ad3f-4f51-97b7-66287582c6cc",
   "metadata": {},
   "source": [
    "Еще одно возможное применение boolean массивов в Numpy – это модификация\n",
    "данных. Присвоим всем элементам из массива nums меньшим 5 значение 10"
   ]
  },
  {
   "cell_type": "code",
   "execution_count": 228,
   "id": "f63e57d2-0b3d-4562-8929-54ba39e628ea",
   "metadata": {},
   "outputs": [
    {
     "name": "stdout",
     "output_type": "stream",
     "text": [
      "[10 10 10 10  5  6  7  8  9 10]\n"
     ]
    }
   ],
   "source": [
    "nums[nums < 5] = 10 \n",
    "print(nums)"
   ]
  },
  {
   "cell_type": "markdown",
   "id": "71852cd5-0a81-4fcb-a553-cff105e8f775",
   "metadata": {},
   "source": [
    "Данных подход работает и с двумерными массивами"
   ]
  },
  {
   "cell_type": "code",
   "execution_count": 231,
   "id": "3b9f6e0e-ea89-46d7-a320-a93397dd8a0d",
   "metadata": {},
   "outputs": [
    {
     "name": "stdout",
     "output_type": "stream",
     "text": [
      "[[ 1  2  3  4]\n",
      " [ 5  6  7 25]\n",
      " [25  1  5  7]]\n"
     ]
    }
   ],
   "source": [
    "m[m > 7] = 25 \n",
    "print(m)"
   ]
  },
  {
   "cell_type": "markdown",
   "id": "77f0fec6-9823-4580-aed1-3d03275648f6",
   "metadata": {},
   "source": [
    "## Пример 8 \n",
    "Дополнительные функции"
   ]
  },
  {
   "cell_type": "markdown",
   "id": "81b14cf1-5425-4366-a5eb-3c91da5218b8",
   "metadata": {},
   "source": [
    "Функция arange() аналогична с функцией rande(), но позволяет строить вектор с указанием шага в виде десятичной дроби"
   ]
  },
  {
   "cell_type": "code",
   "execution_count": 233,
   "id": "4fdec6fd-ccb1-4c4d-ab7b-68a15dc255ec",
   "metadata": {},
   "outputs": [
    {
     "data": {
      "text/plain": [
       "array([0, 1, 2, 3, 4, 5, 6, 7, 8, 9])"
      ]
     },
     "execution_count": 233,
     "metadata": {},
     "output_type": "execute_result"
    }
   ],
   "source": [
    "np.arange(10)"
   ]
  },
  {
   "cell_type": "code",
   "execution_count": 236,
   "id": "5e96bde1-9e69-4b35-8df6-2eecb977aa7c",
   "metadata": {},
   "outputs": [
    {
     "data": {
      "text/plain": [
       "array([ 5,  6,  7,  8,  9, 10, 11])"
      ]
     },
     "execution_count": 236,
     "metadata": {},
     "output_type": "execute_result"
    }
   ],
   "source": [
    "np.arange(5, 12)"
   ]
  },
  {
   "cell_type": "markdown",
   "id": "f9e1e361-448a-4f16-b2d0-068d3bfa4a54",
   "metadata": {},
   "source": [
    "Зададим интервал и шаг в виде десятичного числа"
   ]
  },
  {
   "cell_type": "code",
   "execution_count": 239,
   "id": "640496e6-b19a-45df-8e60-bba82e587703",
   "metadata": {},
   "outputs": [
    {
     "data": {
      "text/plain": [
       "array([1. , 1.5, 2. , 2.5, 3. , 3.5, 4. , 4.5])"
      ]
     },
     "execution_count": 239,
     "metadata": {},
     "output_type": "execute_result"
    }
   ],
   "source": [
    "np.arange(1, 5, 0.5)"
   ]
  },
  {
   "cell_type": "code",
   "execution_count": 242,
   "id": "bece8c34-0f4e-402b-9b5d-39315cfae00e",
   "metadata": {},
   "outputs": [
    {
     "data": {
      "text/plain": [
       "matrix([[1, 2],\n",
       "        [3, 4]])"
      ]
     },
     "execution_count": 242,
     "metadata": {},
     "output_type": "execute_result"
    }
   ],
   "source": [
    "# Python список\n",
    "a = [[1, 2], [3, 4]]\n",
    "np.matrix(a)"
   ]
  },
  {
   "cell_type": "code",
   "execution_count": 244,
   "id": "1f696c94-e336-4752-a77f-7bd4bfdcdb85",
   "metadata": {},
   "outputs": [
    {
     "data": {
      "text/plain": [
       "matrix([[5, 6],\n",
       "        [7, 8]])"
      ]
     },
     "execution_count": 244,
     "metadata": {},
     "output_type": "execute_result"
    }
   ],
   "source": [
    "# Numpy\n",
    "b = np.array([[5, 6], [7, 8]])\n",
    "np.matrix(b)"
   ]
  },
  {
   "cell_type": "code",
   "execution_count": 246,
   "id": "09b4e458-7453-4498-8d5b-b2652cf7230c",
   "metadata": {},
   "outputs": [
    {
     "data": {
      "text/plain": [
       "matrix([[1, 2],\n",
       "        [3, 4]])"
      ]
     },
     "execution_count": 246,
     "metadata": {},
     "output_type": "execute_result"
    }
   ],
   "source": [
    "# Матлаб стиль\n",
    "np.matrix('[1, 2; 3, 4]')"
   ]
  },
  {
   "cell_type": "markdown",
   "id": "91444d6d-0639-480e-b4cd-c6c3151e80eb",
   "metadata": {},
   "source": [
    "Используем zeros() для создания нулевой матрицы"
   ]
  },
  {
   "cell_type": "code",
   "execution_count": 249,
   "id": "3b2cedb2-00c4-4be0-b777-a65d406b2c8d",
   "metadata": {},
   "outputs": [
    {
     "data": {
      "text/plain": [
       "array([[0., 0., 0., 0.],\n",
       "       [0., 0., 0., 0.],\n",
       "       [0., 0., 0., 0.]])"
      ]
     },
     "execution_count": 249,
     "metadata": {},
     "output_type": "execute_result"
    }
   ],
   "source": [
    "np.zeros((3, 4))"
   ]
  },
  {
   "cell_type": "markdown",
   "id": "5b9459ea-212a-415d-984f-fc28f6373701",
   "metadata": {},
   "source": [
    "Используем eye() для создания единичной матрицы"
   ]
  },
  {
   "cell_type": "code",
   "execution_count": 252,
   "id": "956e5815-77bd-4ed1-8ffb-822b3d3b50bb",
   "metadata": {},
   "outputs": [
    {
     "data": {
      "text/plain": [
       "array([[1., 0., 0.],\n",
       "       [0., 1., 0.],\n",
       "       [0., 0., 1.]])"
      ]
     },
     "execution_count": 252,
     "metadata": {},
     "output_type": "execute_result"
    }
   ],
   "source": [
    "np.eye(3)"
   ]
  },
  {
   "cell_type": "markdown",
   "id": "e43339eb-4c07-4edb-8f31-afd334d7ef86",
   "metadata": {},
   "source": [
    "Воспользуемся функцией np.ravel() для того, чтобы преобразовать матрицу в\n",
    "одномерный вектор."
   ]
  },
  {
   "cell_type": "code",
   "execution_count": 255,
   "id": "55b27cfa-b469-45a6-8991-d0f03a2c0d99",
   "metadata": {},
   "outputs": [
    {
     "data": {
      "text/plain": [
       "array([[1, 2, 3],\n",
       "       [4, 5, 6],\n",
       "       [7, 8, 9]])"
      ]
     },
     "execution_count": 255,
     "metadata": {},
     "output_type": "execute_result"
    }
   ],
   "source": [
    "# Создадим двумерную матрицу 3х3\n",
    "A = np.array([[1, 2, 3], [4, 5, 6], [7, 8, 9]])\n",
    "A"
   ]
  },
  {
   "cell_type": "code",
   "execution_count": 257,
   "id": "5e00cbd2-736f-4ee0-b49e-399912a283d6",
   "metadata": {},
   "outputs": [
    {
     "data": {
      "text/plain": [
       "array([1, 2, 3, 4, 5, 6, 7, 8, 9])"
      ]
     },
     "execution_count": 257,
     "metadata": {},
     "output_type": "execute_result"
    }
   ],
   "source": [
    "np.ravel(A)"
   ]
  },
  {
   "cell_type": "markdown",
   "id": "69e54f7c-b27c-41c6-8be7-5ae26aafa7d7",
   "metadata": {},
   "source": [
    "У ravel() есть параметр order, который отвечает за порядок построения\n",
    "одномерного массива, по умолчанию он равен ‘C’ – массив будет собираться из строк исходной матрицы."
   ]
  },
  {
   "cell_type": "code",
   "execution_count": 259,
   "id": "b23b3308-5602-4283-9d4e-3059accce34f",
   "metadata": {
    "scrolled": true
   },
   "outputs": [
    {
     "data": {
      "text/plain": [
       "array([1, 2, 3, 4, 5, 6, 7, 8, 9])"
      ]
     },
     "execution_count": 259,
     "metadata": {},
     "output_type": "execute_result"
    }
   ],
   "source": [
    "np.ravel(A, order='C')"
   ]
  },
  {
   "cell_type": "markdown",
   "id": "fe6d8354-daae-4ecf-819b-442a78b78e47",
   "metadata": {},
   "source": [
    "Указажем order=‘F‘, чтобы в качестве элементов для сборки выступали\n",
    "столбцы матрицы."
   ]
  },
  {
   "cell_type": "code",
   "execution_count": 262,
   "id": "6f8513e7-2958-40f5-ba91-0beb36216b05",
   "metadata": {},
   "outputs": [
    {
     "data": {
      "text/plain": [
       "array([1, 4, 7, 2, 5, 8, 3, 6, 9])"
      ]
     },
     "execution_count": 262,
     "metadata": {},
     "output_type": "execute_result"
    }
   ],
   "source": [
    "np.ravel(A, order='F')"
   ]
  },
  {
   "cell_type": "markdown",
   "id": "54866b06-b843-4431-9b92-b2e394525b1f",
   "metadata": {},
   "source": [
    "Воспользуемся np.where() для возвращения заданного элемента"
   ]
  },
  {
   "cell_type": "code",
   "execution_count": 265,
   "id": "8c00630a-a0e2-4aa2-af72-0e64da3da376",
   "metadata": {},
   "outputs": [
    {
     "data": {
      "text/plain": [
       "array([ 0. ,  0.1, 20. ,  0.3, 40. ,  0.5, 60. ,  0.7, 80. ,  0.9])"
      ]
     },
     "execution_count": 265,
     "metadata": {},
     "output_type": "execute_result"
    }
   ],
   "source": [
    "a = np.array([0, 1, 2, 3, 4, 5, 6, 7, 8, 9]) \n",
    "np.where(a % 2 == 0, a * 10, a / 10)"
   ]
  },
  {
   "cell_type": "markdown",
   "id": "99792aa6-164f-41ad-8521-7d0b36f8b95a",
   "metadata": {},
   "source": [
    "Построим матрицу координат с помощью meshgrid "
   ]
  },
  {
   "cell_type": "markdown",
   "id": "57cbeda7-1dcf-4b4a-9a93-bf44a78e52b9",
   "metadata": {},
   "source": [
    "Создадим два вектора"
   ]
  },
  {
   "cell_type": "code",
   "execution_count": 269,
   "id": "96aacff0-02d1-4a81-a276-51a98a387b2d",
   "metadata": {},
   "outputs": [
    {
     "data": {
      "text/plain": [
       "array([0.  , 0.25, 0.5 , 0.75, 1.  ])"
      ]
     },
     "execution_count": 269,
     "metadata": {},
     "output_type": "execute_result"
    }
   ],
   "source": [
    "x = np.linspace(0, 1, 5) \n",
    "x"
   ]
  },
  {
   "cell_type": "code",
   "execution_count": 271,
   "id": "775b75b5-170a-4e6f-91c9-b3e418e5844c",
   "metadata": {},
   "outputs": [
    {
     "data": {
      "text/plain": [
       "array([0. , 0.5, 1. , 1.5, 2. ])"
      ]
     },
     "execution_count": 271,
     "metadata": {},
     "output_type": "execute_result"
    }
   ],
   "source": [
    "y = np.linspace(0, 2, 5)\n",
    "y"
   ]
  },
  {
   "cell_type": "code",
   "execution_count": 273,
   "id": "18c4ed04-d778-49d6-978b-a5b0cc19fa21",
   "metadata": {},
   "outputs": [
    {
     "data": {
      "text/plain": [
       "array([[0.  , 0.25, 0.5 , 0.75, 1.  ],\n",
       "       [0.  , 0.25, 0.5 , 0.75, 1.  ],\n",
       "       [0.  , 0.25, 0.5 , 0.75, 1.  ],\n",
       "       [0.  , 0.25, 0.5 , 0.75, 1.  ],\n",
       "       [0.  , 0.25, 0.5 , 0.75, 1.  ]])"
      ]
     },
     "execution_count": 273,
     "metadata": {},
     "output_type": "execute_result"
    }
   ],
   "source": [
    "xg, yg = np.meshgrid(x, y)\n",
    "xg"
   ]
  },
  {
   "cell_type": "code",
   "execution_count": 275,
   "id": "3840da26-8c84-4dae-a96c-131768d71bec",
   "metadata": {},
   "outputs": [
    {
     "data": {
      "text/plain": [
       "array([[0. , 0. , 0. , 0. , 0. ],\n",
       "       [0.5, 0.5, 0.5, 0.5, 0.5],\n",
       "       [1. , 1. , 1. , 1. , 1. ],\n",
       "       [1.5, 1.5, 1.5, 1.5, 1.5],\n",
       "       [2. , 2. , 2. , 2. , 2. ]])"
      ]
     },
     "execution_count": 275,
     "metadata": {},
     "output_type": "execute_result"
    }
   ],
   "source": [
    "yg"
   ]
  },
  {
   "cell_type": "markdown",
   "id": "db99abfb-8325-42bd-8afb-2f2b21f9b597",
   "metadata": {},
   "source": [
    "Визуализируем эти данные. Для начала импортируем matplotlib"
   ]
  },
  {
   "cell_type": "code",
   "execution_count": 278,
   "id": "f1ac03cc-fb6d-4c9a-9b2b-a89a954fd754",
   "metadata": {},
   "outputs": [],
   "source": [
    "import matplotlib.pyplot as plt \n",
    "%matplotlib inline"
   ]
  },
  {
   "cell_type": "markdown",
   "id": "ea14bf88-04b2-4c42-9d17-33c47285be65",
   "metadata": {},
   "source": [
    "Строим график"
   ]
  },
  {
   "cell_type": "code",
   "execution_count": 281,
   "id": "d8a8bcbd-6987-4fe9-ba4a-e376e15ffd32",
   "metadata": {},
   "outputs": [
    {
     "data": {
      "image/png": "[encoded data removed]",
      "text/plain": [
       "<Figure size 640x480 with 1 Axes>"
      ]
     },
     "metadata": {},
     "output_type": "display_data"
    }
   ],
   "source": [
    "plt.plot(xg, yg, color=\"r\", marker=\"*\", linestyle=\"none\")\n",
    "plt.show()"
   ]
  },
  {
   "cell_type": "markdown",
   "id": "e7c48ea5-ed2d-4bbe-8534-8c12d37a588a",
   "metadata": {},
   "source": [
    "С помощью функции permutation генерируем список заданной длины из натуральных чисел"
   ]
  },
  {
   "cell_type": "code",
   "execution_count": 284,
   "id": "624622a2-ac50-41a7-aaa7-ce95091f2fdb",
   "metadata": {},
   "outputs": [
    {
     "data": {
      "text/plain": [
       "array([6, 2, 1, 4, 5, 0, 3])"
      ]
     },
     "execution_count": 284,
     "metadata": {},
     "output_type": "execute_result"
    }
   ],
   "source": [
    "np.random.permutation(7)"
   ]
  },
  {
   "cell_type": "code",
   "execution_count": 286,
   "id": "aaaed584-4b90-4786-883b-9ddc27348ef1",
   "metadata": {},
   "outputs": [
    {
     "data": {
      "text/plain": [
       "array(['a', 'c', 'd', 'b', 'e'], dtype='<U1')"
      ]
     },
     "execution_count": 286,
     "metadata": {},
     "output_type": "execute_result"
    }
   ],
   "source": [
    "a = ['a', 'b', 'c', 'd', 'e']\n",
    "np.random.permutation(a)"
   ]
  },
  {
   "cell_type": "code",
   "execution_count": 315,
   "id": "67aa0669-f203-457f-83ef-5f254ba9a097",
   "metadata": {},
   "outputs": [
    {
     "data": {
      "text/plain": [
       "array([ 0. ,  2.5,  5. ,  7.5, 10. ])"
      ]
     },
     "execution_count": 315,
     "metadata": {},
     "output_type": "execute_result"
    }
   ],
   "source": [
    "# Перемешаем выборку с данными\n",
    "arr = np.linspace(0, 10, 5)\n",
    "arr"
   ]
  },
  {
   "cell_type": "code",
   "execution_count": 291,
   "id": "e71df6c8-0d0a-4825-b000-83e8cfbc8a58",
   "metadata": {},
   "outputs": [
    {
     "data": {
      "text/plain": [
       "array([ 5. , 10. ,  7.5,  2.5,  0. ])"
      ]
     },
     "execution_count": 291,
     "metadata": {},
     "output_type": "execute_result"
    }
   ],
   "source": [
    "arr_mix = np.random.permutation(arr) \n",
    "arr_mix"
   ]
  },
  {
   "cell_type": "markdown",
   "id": "db384175-c843-48d2-ad64-c70a39990c10",
   "metadata": {},
   "source": [
    "## Пример 9\n",
    "Вектор(матрицы)"
   ]
  },
  {
   "cell_type": "markdown",
   "id": "3f53e2dd-39d7-4073-9f3c-1ebf7a32b7d0",
   "metadata": {},
   "source": [
    "Задаем вектор"
   ]
  },
  {
   "cell_type": "code",
   "execution_count": 293,
   "id": "7afa1795-272c-419e-af39-f43f4fa2b9c7",
   "metadata": {},
   "outputs": [
    {
     "name": "stdout",
     "output_type": "stream",
     "text": [
      "[1 2]\n"
     ]
    }
   ],
   "source": [
    "v_hor_np = np.array([1, 2])\n",
    "print(v_hor_np )"
   ]
  },
  {
   "cell_type": "markdown",
   "id": "73693ac4-fe28-4ea6-b485-62d0d6a3f5f6",
   "metadata": {},
   "source": [
    "Создадим нулевую вектор-строку размера 5."
   ]
  },
  {
   "cell_type": "code",
   "execution_count": 296,
   "id": "b6e62cfb-a18b-46af-be78-cda727f3be8e",
   "metadata": {},
   "outputs": [
    {
     "name": "stdout",
     "output_type": "stream",
     "text": [
      "[0. 0. 0. 0. 0.]\n"
     ]
    }
   ],
   "source": [
    "v_hor_zeros_v1 = np.zeros((5,)) \n",
    "print(v_hor_zeros_v1 )"
   ]
  },
  {
   "cell_type": "markdown",
   "id": "cb5726af-453a-48b9-8f8e-5b2382fc5b6b",
   "metadata": {},
   "source": [
    "Построим единичную вектор-строку"
   ]
  },
  {
   "cell_type": "code",
   "execution_count": 299,
   "id": "b0c7af13-a665-4daf-8f68-11ee641464cb",
   "metadata": {},
   "outputs": [
    {
     "name": "stdout",
     "output_type": "stream",
     "text": [
      "[1. 1. 1. 1. 1.]\n"
     ]
    }
   ],
   "source": [
    "v_hor_one_v1 = np.ones((5,)) \n",
    "print(v_hor_one_v1)"
   ]
  },
  {
   "cell_type": "markdown",
   "id": "c1e74c41-7dbf-4c2f-bf5f-acc87683b573",
   "metadata": {},
   "source": [
    "Создадим вектор-столбец с помощью ones()"
   ]
  },
  {
   "cell_type": "code",
   "execution_count": 302,
   "id": "e50f653f-4592-4391-83ba-c02f4b7940e1",
   "metadata": {},
   "outputs": [
    {
     "name": "stdout",
     "output_type": "stream",
     "text": [
      "[[0.]\n",
      " [0.]\n",
      " [0.]\n",
      " [0.]\n",
      " [0.]]\n"
     ]
    }
   ],
   "source": [
    "v_vert_zeros = np.zeros((5, 1)) \n",
    "print(v_vert_zeros)"
   ]
  },
  {
   "cell_type": "markdown",
   "id": "8f811812-128b-4814-a312-dec2866b4688",
   "metadata": {},
   "source": [
    "## Пример 10 \n",
    "Квадратная матрица"
   ]
  },
  {
   "cell_type": "code",
   "execution_count": 310,
   "id": "6246a6d0-7bbe-412d-9735-87eb21e0fb4e",
   "metadata": {},
   "outputs": [
    {
     "name": "stdout",
     "output_type": "stream",
     "text": [
      "[[1 2 3]\n",
      " [4 5 6]\n",
      " [7 8 9]]\n"
     ]
    }
   ],
   "source": [
    "m_sqr_arr = np.array([[1, 2, 3], [4, 5, 6], [7, 8, 9]]) \n",
    "print(m_sqr_arr)"
   ]
  },
  {
   "cell_type": "code",
   "execution_count": 308,
   "id": "6d7382a0-b6dd-4367-9faf-5c1fd76e6096",
   "metadata": {},
   "outputs": [
    {
     "name": "stdout",
     "output_type": "stream",
     "text": [
      "[[1 2 3]\n",
      " [4 5 6]\n",
      " [7 8 9]]\n"
     ]
    }
   ],
   "source": [
    "m_sqr = [[1, 2, 3], [4, 5, 6], [7, 8, 9]] \n",
    "m_sqr_arr = np.array(m_sqr) \n",
    "print(m_sqr_arr)"
   ]
  },
  {
   "cell_type": "code",
   "execution_count": 312,
   "id": "77f80911-cdd3-47de-b8dd-0f0e0e8e2637",
   "metadata": {},
   "outputs": [
    {
     "name": "stdout",
     "output_type": "stream",
     "text": [
      "[[1 2 3]\n",
      " [4 5 6]\n",
      " [7 8 9]]\n"
     ]
    }
   ],
   "source": [
    "m_sqr_mx = np.matrix('1 2 3; 4 5 6; 7 8 9') \n",
    "print(m_sqr_mx)"
   ]
  },
  {
   "cell_type": "markdown",
   "id": "933fdfbf-e244-4304-b5f2-ac4f1524ef0c",
   "metadata": {},
   "source": [
    "## Пример 11\n",
    "Транспонирование матрицы"
   ]
  },
  {
   "cell_type": "code",
   "execution_count": 317,
   "id": "3ed7e08e-6677-451d-9c6b-ce391dbd887f",
   "metadata": {},
   "outputs": [
    {
     "name": "stdout",
     "output_type": "stream",
     "text": [
      "[[1 2 3]\n",
      " [4 5 6]]\n"
     ]
    }
   ],
   "source": [
    "A = np.matrix('1 2 3; 4 5 6')\n",
    "print(A)"
   ]
  },
  {
   "cell_type": "code",
   "execution_count": 323,
   "id": "951e614b-b36c-4d3e-814d-87c4ddaf6a55",
   "metadata": {},
   "outputs": [
    {
     "name": "stdout",
     "output_type": "stream",
     "text": [
      "[[1 4]\n",
      " [2 5]\n",
      " [3 6]]\n",
      "[[1 4]\n",
      " [2 5]\n",
      " [3 6]]\n"
     ]
    }
   ],
   "source": [
    "#Транспонируем матрицу с помощью метода *transpose():* и .T\n",
    "A_t = A.transpose() \n",
    "print(A_t)\n",
    "print(A.T)"
   ]
  },
  {
   "cell_type": "markdown",
   "id": "58ec1108-af8b-4a92-962c-0197fbbc8162",
   "metadata": {},
   "source": [
    "## Пример 12\n",
    "Действия над матрицами "
   ]
  },
  {
   "cell_type": "code",
   "execution_count": 326,
   "id": "ffddfc0e-134e-43d8-a3d5-0c5cf4c178fe",
   "metadata": {},
   "outputs": [
    {
     "name": "stdout",
     "output_type": "stream",
     "text": [
      "[[ 3  6  9]\n",
      " [12 15 18]]\n"
     ]
    }
   ],
   "source": [
    "#Умножаем матрицу на число\n",
    "A = np.matrix('1 2 3; 4 5 6') \n",
    "C = 3 * A \n",
    "print(C)"
   ]
  },
  {
   "cell_type": "code",
   "execution_count": 328,
   "id": "d1a9d17d-6b96-4e99-bbce-0656636bc235",
   "metadata": {},
   "outputs": [
    {
     "name": "stdout",
     "output_type": "stream",
     "text": [
      "[[ 9  7  8]\n",
      " [14 11 19]]\n"
     ]
    }
   ],
   "source": [
    "#Складываем матрицы\n",
    "A = np.matrix('1 6 3; 8 2 7') \n",
    "B = np.matrix('8 1 5; 6 9 12')\n",
    "C = A + B \n",
    "print(C)"
   ]
  },
  {
   "cell_type": "code",
   "execution_count": 330,
   "id": "9841c1d4-228b-4ede-9184-b87999aedbd2",
   "metadata": {},
   "outputs": [
    {
     "name": "stdout",
     "output_type": "stream",
     "text": [
      "[[31 19]\n",
      " [85 55]]\n"
     ]
    }
   ],
   "source": [
    "#Умножаем матрицы\n",
    "A = np.matrix('1 2 3; 4 5 6')\n",
    "B = np.matrix('7 8; 9 1; 2 3') \n",
    "C = A.dot(B) \n",
    "print(C)"
   ]
  },
  {
   "cell_type": "code",
   "execution_count": 334,
   "id": "7fe83406-d2e5-4a72-93f6-145abcafa601",
   "metadata": {},
   "outputs": [
    {
     "name": "stdout",
     "output_type": "stream",
     "text": [
      "[[35 42]\n",
      " [77 94]]\n",
      "[[35 42]\n",
      " [77 94]]\n"
     ]
    }
   ],
   "source": [
    "A = np.matrix('1 2; 3 4') \n",
    "B = np.matrix('5 6; 7 8') \n",
    "C = np.matrix('2 4; 7 8') \n",
    "L = A.dot(B + C) \n",
    "R = A.dot(B) + A.dot(C) \n",
    "print(L) \n",
    "print(R)"
   ]
  },
  {
   "cell_type": "code",
   "execution_count": 338,
   "id": "733bf311-b4c7-4f1b-899a-3c7b2a1651d1",
   "metadata": {},
   "outputs": [
    {
     "name": "stdout",
     "output_type": "stream",
     "text": [
      "[[1 2]\n",
      " [3 4]]\n",
      "[[1 2]\n",
      " [3 4]]\n",
      "[[1 2]\n",
      " [3 4]]\n"
     ]
    }
   ],
   "source": [
    "A = np.matrix('1 2; 3 4') \n",
    "E = np.matrix('1 0; 0 1') \n",
    "L = E.dot(A) \n",
    "R = A.dot(E) \n",
    "print(L) \n",
    "print(R) \n",
    "print(A)"
   ]
  },
  {
   "cell_type": "markdown",
   "id": "0fc89af2-860b-4815-8c7f-aeca3de5c981",
   "metadata": {},
   "source": [
    "## Пример 13\n",
    "Определитель матрицы"
   ]
  },
  {
   "cell_type": "code",
   "execution_count": 341,
   "id": "7676f3ee-169c-4e2f-9927-99faf62ce9e0",
   "metadata": {},
   "outputs": [
    {
     "name": "stdout",
     "output_type": "stream",
     "text": [
      "[[-4 -1  2]\n",
      " [10  4 -1]\n",
      " [ 8  3  1]]\n"
     ]
    }
   ],
   "source": [
    "# Создадим матрицу A размера 3×3 \n",
    "A = np.matrix('-4 -1 2; 10 4 -1; 8 3 1')\n",
    "print(A)"
   ]
  },
  {
   "cell_type": "code",
   "execution_count": 343,
   "id": "e25930c6-9ee6-4b3b-943e-58ea3f28f302",
   "metadata": {},
   "outputs": [
    {
     "name": "stdout",
     "output_type": "stream",
     "text": [
      "-14.000000000000009\n"
     ]
    }
   ],
   "source": [
    "#Для вычисления определителя этой матрицы воспользуемся функцией det() из пакета linalg.\n",
    "b = np.linalg.det(A)\n",
    "print(b)"
   ]
  },
  {
   "cell_type": "code",
   "execution_count": 349,
   "id": "49919b50-ac37-45df-a3c6-d033edb60543",
   "metadata": {},
   "outputs": [
    {
     "name": "stdout",
     "output_type": "stream",
     "text": [
      "[[-4 -1  2]\n",
      " [10  4 -1]\n",
      " [16  6  2]]\n",
      "-28.0\n"
     ]
    }
   ],
   "source": [
    "k = 2 \n",
    "B = A.copy() \n",
    "B[2, :] = k * B[2, :] \n",
    "print(B) \n",
    "det_A = round(np.linalg.det(A), 3)\n",
    "det_B = round(np.linalg.det(B), 3)\n",
    "det_A * k\n",
    "print(det_B)"
   ]
  },
  {
   "cell_type": "code",
   "execution_count": 351,
   "id": "7d8a378d-3e2a-4f87-a6e8-8dc53cf5f0fe",
   "metadata": {},
   "outputs": [
    {
     "data": {
      "text/plain": [
       "0.0"
      ]
     },
     "execution_count": 351,
     "metadata": {},
     "output_type": "execute_result"
    }
   ],
   "source": [
    "A[1, :] = A[0, :] + k * A[2, :] \n",
    "round(np.linalg.det(A), 3)"
   ]
  },
  {
   "cell_type": "markdown",
   "id": "1ebb885a-d589-47cf-aa7b-b5e73d84e720",
   "metadata": {},
   "source": [
    "## Пример 14 \n",
    "Обратная матрица"
   ]
  },
  {
   "cell_type": "code",
   "execution_count": 356,
   "id": "bb38b048-ddb9-4c4e-8c15-ec5195d8fcfd",
   "metadata": {},
   "outputs": [
    {
     "name": "stdout",
     "output_type": "stream",
     "text": [
      "[[ 0.45454545  0.27272727]\n",
      " [-0.18181818  0.09090909]]\n"
     ]
    }
   ],
   "source": [
    "# Для получения обратной матрицы будем использовать функцию inv() \n",
    "A = np.matrix('1 -3; 2 5') \n",
    "A_inv = np.linalg.inv(A) \n",
    "print(A_inv)"
   ]
  },
  {
   "cell_type": "code",
   "execution_count": 358,
   "id": "b556dea4-9325-4586-a895-51eb087c2259",
   "metadata": {},
   "outputs": [
    {
     "name": "stdout",
     "output_type": "stream",
     "text": [
      "[[ 0.45454545 -0.18181818]\n",
      " [ 0.27272727  0.09090909]]\n",
      "[[ 0.45454545 -0.18181818]\n",
      " [ 0.27272727  0.09090909]]\n"
     ]
    }
   ],
   "source": [
    " L = np.linalg.inv(A.T) \n",
    "R = (np.linalg.inv(A)).T \n",
    "print(L) \n",
    "print(R)"
   ]
  },
  {
   "cell_type": "markdown",
   "id": "f180f931-6ab3-4603-9576-6b9a6882bd64",
   "metadata": {},
   "source": [
    "## Пример 15\n",
    "Ранг матрицы"
   ]
  },
  {
   "cell_type": "code",
   "execution_count": 361,
   "id": "deb3646d-0d03-4b6a-ae1a-645513faa0fb",
   "metadata": {},
   "outputs": [
    {
     "name": "stdout",
     "output_type": "stream",
     "text": [
      "[[1. 0. 0. 0.]\n",
      " [0. 1. 0. 0.]\n",
      " [0. 0. 1. 0.]\n",
      " [0. 0. 0. 1.]]\n"
     ]
    }
   ],
   "source": [
    "#Вычислим ранг матрицы с помощью Python. Создадим единичную матрицу:\n",
    "m_eye = np.eye(4) \n",
    "print(m_eye)"
   ]
  },
  {
   "cell_type": "code",
   "execution_count": 363,
   "id": "1da58e00-1eed-443b-a83f-530fc1b84e24",
   "metadata": {},
   "outputs": [
    {
     "name": "stdout",
     "output_type": "stream",
     "text": [
      "4\n"
     ]
    }
   ],
   "source": [
    "# Воспользуемся функцией matrix_rank():\n",
    "rank = np.linalg.matrix_rank(m_eye) \n",
    "print(rank)"
   ]
  },
  {
   "cell_type": "code",
   "execution_count": 365,
   "id": "4a7a1e46-071a-4904-a3e1-defa92f4775e",
   "metadata": {},
   "outputs": [
    {
     "name": "stdout",
     "output_type": "stream",
     "text": [
      "[[1. 0. 0. 0.]\n",
      " [0. 1. 0. 0.]\n",
      " [0. 0. 1. 0.]\n",
      " [0. 0. 0. 0.]]\n",
      "3\n"
     ]
    }
   ],
   "source": [
    "#Если мы приравняем элемент в нижнем правом углу к нулю, то ранг станет равен трем:\n",
    "m_eye[3][3] = 0 \n",
    "print(m_eye)\n",
    "rank = np.linalg.matrix_rank(m_eye)\n",
    "print(rank)"
   ]
  },
  {
   "cell_type": "code",
   "execution_count": null,
   "id": "fe34ed30-f2f6-4f63-934d-4e6a0fcb2608",
   "metadata": {},
   "outputs": [],
   "source": []
  }
 ],
 "metadata": {
  "kernelspec": {
   "display_name": "Python [conda env:base] *",
   "language": "python",
   "name": "conda-base-py"
  },
  "language_info": {
   "codemirror_mode": {
    "name": "ipython",
    "version": 3
   },
   "file_extension": ".py",
   "mimetype": "text/x-python",
   "name": "python",
   "nbconvert_exporter": "python",
   "pygments_lexer": "ipython3",
   "version": "3.12.7"
  }
 },
 "nbformat": 4,
 "nbformat_minor": 5
}
